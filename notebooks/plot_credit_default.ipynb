{
 "cells": [
  {
   "cell_type": "markdown",
   "metadata": {},
   "source": [
    "## plot_credit_default.py 代码走读"
   ]
  },
  {
   "cell_type": "markdown",
   "metadata": {},
   "source": [
    "### 1、导入依赖包"
   ]
  },
  {
   "cell_type": "code",
   "execution_count": 6,
   "metadata": {},
   "outputs": [],
   "source": [
    "import pandas as pd\n",
    "import numpy as np\n",
    "from sklearn.datasets.base import get_data_home, Bunch\n",
    "import matplotlib.pyplot as plt\n",
    "from sklearn.metrics import roc_curve, precision_recall_curve\n",
    "from sklearn.ensemble import RandomForestClassifier\n",
    "from sklearn.model_selection import GridSearchCV\n",
    "from sklearn.utils import shuffle\n",
    "from skrules import SkopeRules\n",
    "from skrules.datasets import load_credit_data"
   ]
  },
  {
   "cell_type": "markdown",
   "metadata": {},
   "source": [
    "### 2、加载excel数据"
   ]
  },
  {
   "cell_type": "code",
   "execution_count": 7,
   "metadata": {},
   "outputs": [],
   "source": [
    "data = pd.read_excel('..\\data\\credit_card.xls', sheet_name='Data', header=1)\n",
    "dataset = Bunch(data=(data.drop('default payment next month', axis=1)),target=np.array(data['default payment next month']))\n",
    "X = dataset.data\n",
    "y = dataset.target"
   ]
  },
  {
   "cell_type": "markdown",
   "metadata": {},
   "source": [
    "### 3、打乱数据顺序"
   ]
  },
  {
   "cell_type": "code",
   "execution_count": 9,
   "metadata": {},
   "outputs": [],
   "source": [
    "rng = np.random.RandomState(1)\n",
    "data, y = shuffle(np.array(X), y, random_state=rng)\n",
    "data = pd.DataFrame(data, columns=X.columns)\n",
    "for col in ['ID']:\n",
    "    del data[col]"
   ]
  },
  {
   "cell_type": "markdown",
   "metadata": {},
   "source": [
    "### 4、特征工程"
   ]
  },
  {
   "cell_type": "code",
   "execution_count": 10,
   "metadata": {},
   "outputs": [],
   "source": [
    "data = data.rename(columns={\"PAY_0\": \"PAY_1\"})\n",
    "old_PAY = ['PAY_3', 'PAY_4', 'PAY_5', 'PAY_6']\n",
    "data['PAY_old_mean'] = data[old_PAY].apply(lambda x: np.mean(x), axis=1)\n",
    "\n",
    "old_BILL_AMT = ['BILL_AMT3', 'BILL_AMT4', 'BILL_AMT5', 'BILL_AMT6']\n",
    "data['BILL_AMT_old_mean'] = data[old_BILL_AMT].apply(\n",
    "    lambda x: np.mean(x), axis=1)\n",
    "data['BILL_AMT_old_std'] = data[old_BILL_AMT].apply(\n",
    "    lambda x: np.std(x),\n",
    "    axis=1)\n",
    "\n",
    "old_PAY_AMT = ['PAY_AMT3', 'PAY_AMT4', 'PAY_AMT5', 'PAY_AMT6']\n",
    "data['PAY_AMT_old_mean'] = data[old_PAY_AMT].apply(\n",
    "    lambda x: np.mean(x), axis=1)\n",
    "data['PAY_AMT_old_std'] = data[old_PAY_AMT].apply(\n",
    "    lambda x: np.std(x), axis=1)\n",
    "\n",
    "data.drop(old_PAY_AMT + old_BILL_AMT + old_PAY, axis=1, inplace=True)"
   ]
  },
  {
   "cell_type": "markdown",
   "metadata": {},
   "source": [
    "### 5、分离测试集和训练集"
   ]
  },
  {
   "cell_type": "code",
   "execution_count": 16,
   "metadata": {},
   "outputs": [
    {
     "name": "stdout",
     "output_type": "stream",
     "text": [
      "List of variables used to train models : ['LIMIT_BAL', 'SEX', 'EDUCATION', 'MARRIAGE', 'AGE', 'PAY_1', 'PAY_2', 'BILL_AMT1', 'BILL_AMT2', 'PAY_AMT1', 'PAY_AMT2', 'PAY_old_mean', 'BILL_AMT_old_mean', 'BILL_AMT_old_std', 'PAY_AMT_old_mean', 'PAY_AMT_old_std']\n"
     ]
    }
   ],
   "source": [
    "feature_names = list(data.columns)\n",
    "print(\"List of variables used to train models : \" + str(feature_names))\n",
    "data = data.values\n",
    "n_samples = data.shape[0]\n",
    "n_samples_train = int(n_samples / 2)\n",
    "y_train = y[:n_samples_train]\n",
    "y_test = y[n_samples_train:]\n",
    "X_train = data[:n_samples_train]\n",
    "X_test = data[n_samples_train:]"
   ]
  },
  {
   "cell_type": "markdown",
   "metadata": {},
   "source": [
    "### 6、使用随机森林分类器进行测试\n",
    "   - 评估随机森林模型的训练和效果\n",
    "   - 利用最佳维度进行规则提取和生成"
   ]
  },
  {
   "cell_type": "code",
   "execution_count": 19,
   "metadata": {},
   "outputs": [
    {
     "name": "stdout",
     "output_type": "stream",
     "text": [
      "Random Forest selected parameters : {'max_depth': 7, 'max_features': 0.55}\n"
     ]
    }
   ],
   "source": [
    "rf = GridSearchCV(\n",
    "    RandomForestClassifier(\n",
    "        random_state=rng,\n",
    "        n_estimators=50,\n",
    "        class_weight='balanced'),\n",
    "    param_grid={'max_depth': range(3, 8, 1),\n",
    "                'max_features': np.linspace(0.1, 1., 5)},\n",
    "    scoring={'AUC': 'roc_auc'}, cv=5,\n",
    "    refit='AUC', n_jobs=-1)\n",
    "\n",
    "rf.fit(X_train, y_train)\n",
    "scoring_rf = rf.predict_proba(X_test)[:, 1]\n",
    "\n",
    "print(\"Random Forest selected parameters : %s\" % rf.best_params_)"
   ]
  },
  {
   "cell_type": "code",
   "execution_count": null,
   "metadata": {},
   "outputs": [],
   "source": []
  }
 ],
 "metadata": {
  "kernelspec": {
   "display_name": "Python 3",
   "language": "python",
   "name": "python3"
  },
  "language_info": {
   "codemirror_mode": {
    "name": "ipython",
    "version": 3
   },
   "file_extension": ".py",
   "mimetype": "text/x-python",
   "name": "python",
   "nbconvert_exporter": "python",
   "pygments_lexer": "ipython3",
   "version": "3.7.1"
  }
 },
 "nbformat": 4,
 "nbformat_minor": 2
}
